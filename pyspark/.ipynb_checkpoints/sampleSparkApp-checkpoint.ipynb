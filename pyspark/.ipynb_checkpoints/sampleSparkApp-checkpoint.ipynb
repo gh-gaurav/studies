{
 "cells": [
  {
   "cell_type": "code",
   "execution_count": 2,
   "id": "04ee37ad-ceb6-44ce-b0e9-292f66278e64",
   "metadata": {},
   "outputs": [],
   "source": [
    "#importing statements\n",
    "from pyspark.sql import SparkSession\n",
    "from pyspark.sql.types import StructType, StringType, StructField, IntegerType\n",
    "import pyspark.sql.functions as func"
   ]
  },
  {
   "cell_type": "code",
   "execution_count": 3,
   "id": "8d24481e-6e07-4658-870e-6ac46c8c1ae0",
   "metadata": {},
   "outputs": [],
   "source": [
    "#creating sparksession\n",
    "spark = SparkSession.builder.appName(\"sampleSession\").getOrCreate()"
   ]
  },
  {
   "cell_type": "code",
   "execution_count": 4,
   "id": "bcfd0e36-f1b7-483c-9402-052579aff498",
   "metadata": {},
   "outputs": [],
   "source": [
    "#defining schema for the dataframe\n",
    "myschema = StructType([\n",
    "    StructField(\"UserID\", IntegerType(), True),\n",
    "    StructField(\"Name\", StringType(), True),\n",
    "    StructField(\"Age\", IntegerType(), True),\n",
    "    StructField(\"Friends\", IntegerType(), True),\n",
    "])"
   ]
  },
  {
   "cell_type": "code",
   "execution_count": 5,
   "id": "28ad8d0a-14a5-4f85-9743-23d20d63b331",
   "metadata": {},
   "outputs": [],
   "source": [
    "# Creating DataFrame from a CSV file\n",
    "people = spark.read.format(\"csv\")\\\n",
    "    .schema(myschema)\\\n",
    "    .option(\"header\", True)\\\n",
    "    .load(\"fakefriends.csv\")"
   ]
  },
  {
   "cell_type": "code",
   "execution_count": 6,
   "id": "d241e200-b862-43c2-82db-a994a2a4783e",
   "metadata": {},
   "outputs": [],
   "source": [
    "# Performing transformation\n",
    "output = people.select(people.UserID, people.Name, people.Age, people.Friends)\\\n",
    "    .where(people.Age < 30)\\\n",
    "    .withColumn(\"insert_ts\", func.current_timestamp())\\\n",
    "    .orderBy(people.UserID)"
   ]
  },
  {
   "cell_type": "code",
   "execution_count": 7,
   "id": "a3be648d-22d3-4c3c-90fb-f4a2f599e397",
   "metadata": {},
   "outputs": [
    {
     "name": "stdout",
     "output_type": "stream",
     "text": [
      "+------+-----+---+-------+--------------------+\n",
      "|UserID| Name|Age|Friends|           insert_ts|\n",
      "+------+-----+---+-------+--------------------+\n",
      "|     1| John| 28|    150|2024-07-03 09:11:...|\n",
      "|     2| Jane| 22|    200|2024-07-03 09:11:...|\n",
      "|     4|Alice| 19|    300|2024-07-03 09:11:...|\n",
      "|     5|  Tom| 25|    100|2024-07-03 09:11:...|\n",
      "|     7|James| 27|    180|2024-07-03 09:11:...|\n",
      "|     8|Linda| 24|    220|2024-07-03 09:11:...|\n",
      "|    10|David| 23|    140|2024-07-03 09:11:...|\n",
      "+------+-----+---+-------+--------------------+\n",
      "\n"
     ]
    }
   ],
   "source": [
    "# Display the result\n",
    "output.show()"
   ]
  },
  {
   "cell_type": "code",
   "execution_count": 9,
   "id": "ac13dc64-1990-4468-989b-f07b3d6b86af",
   "metadata": {},
   "outputs": [
    {
     "data": {
      "text/plain": [
       "7"
      ]
     },
     "execution_count": 9,
     "metadata": {},
     "output_type": "execute_result"
    }
   ],
   "source": [
    "output.count()"
   ]
  },
  {
   "cell_type": "code",
   "execution_count": 11,
   "id": "3bece6b3-8cd6-4cd6-9877-78de7c006976",
   "metadata": {},
   "outputs": [
    {
     "name": "stdout",
     "output_type": "stream",
     "text": [
      "== Physical Plan ==\n",
      "FileScan csv [UserID#0,Name#1,Age#2,Friends#3] Batched: false, DataFilters: [], Format: CSV, Location: InMemoryFileIndex(1 paths)[file:/G:/studies/pyspark/fakefriends.csv], PartitionFilters: [], PushedFilters: [], ReadSchema: struct<UserID:int,Name:string,Age:int,Friends:int>\n",
      "\n",
      "\n"
     ]
    }
   ],
   "source": [
    "people.explain()"
   ]
  },
  {
   "cell_type": "code",
   "execution_count": 14,
   "id": "0d73d296-22da-4924-bea4-f3b4ac4e953d",
   "metadata": {},
   "outputs": [
    {
     "name": "stdout",
     "output_type": "stream",
     "text": [
      "+------+------+---+-------+\n",
      "|UserID|  Name|Age|Friends|\n",
      "+------+------+---+-------+\n",
      "|     1|  John| 28|    150|\n",
      "|     2|  Jane| 22|    200|\n",
      "|     3|   Bob| 35|     50|\n",
      "|     4| Alice| 19|    300|\n",
      "|     5|   Tom| 25|    100|\n",
      "|     6|  Emma| 30|    250|\n",
      "|     7| James| 27|    180|\n",
      "|     8| Linda| 24|    220|\n",
      "|     9|Robert| 31|    170|\n",
      "|    10| David| 23|    140|\n",
      "+------+------+---+-------+\n",
      "\n"
     ]
    }
   ],
   "source": [
    "people.show()"
   ]
  },
  {
   "cell_type": "code",
   "execution_count": 16,
   "id": "fb4399ed-e2c6-4698-adfd-27343a5cebcd",
   "metadata": {},
   "outputs": [
    {
     "data": {
      "text/plain": [
       "10"
      ]
     },
     "execution_count": 16,
     "metadata": {},
     "output_type": "execute_result"
    }
   ],
   "source": [
    "people.count()"
   ]
  },
  {
   "cell_type": "code",
   "execution_count": 17,
   "id": "fc855ec5-3fe0-4860-b732-8a3468e8b8f7",
   "metadata": {},
   "outputs": [
    {
     "name": "stdout",
     "output_type": "stream",
     "text": [
      "root\n",
      " |-- UserID: integer (nullable = true)\n",
      " |-- Name: string (nullable = true)\n",
      " |-- Age: integer (nullable = true)\n",
      " |-- Friends: integer (nullable = true)\n",
      "\n"
     ]
    }
   ],
   "source": [
    "people.printSchema()"
   ]
  }
 ],
 "metadata": {
  "kernelspec": {
   "display_name": "Python 3 (ipykernel)",
   "language": "python",
   "name": "python3"
  },
  "language_info": {
   "codemirror_mode": {
    "name": "ipython",
    "version": 3
   },
   "file_extension": ".py",
   "mimetype": "text/x-python",
   "name": "python",
   "nbconvert_exporter": "python",
   "pygments_lexer": "ipython3",
   "version": "3.11.4"
  }
 },
 "nbformat": 4,
 "nbformat_minor": 5
}
