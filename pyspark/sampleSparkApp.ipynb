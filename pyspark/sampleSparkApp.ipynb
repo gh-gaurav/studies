{
 "cells": [
  {
   "cell_type": "code",
   "execution_count": 49,
   "id": "7f318595-c8af-4b98-b114-2ed9b5322229",
   "metadata": {},
   "outputs": [],
   "source": [
    "#importing statements\n",
    "from pyspark.sql import SparkSession\n",
    "from pyspark.sql.types import StructType, StructField, StringType, IntegerType\n",
    "import pyspark.sql.functions as func"
   ]
  },
  {
   "cell_type": "code",
   "execution_count": 50,
   "id": "8d24481e-6e07-4658-870e-6ac46c8c1ae0",
   "metadata": {},
   "outputs": [],
   "source": [
    "#creating sparksession\n",
    "spark = SparkSession.builder.appName(\"sampleSession\").getOrCreate()"
   ]
  },
  {
   "cell_type": "code",
   "execution_count": 51,
   "id": "bcfd0e36-f1b7-483c-9402-052579aff498",
   "metadata": {},
   "outputs": [],
   "source": [
    "#defining schema for the dataframe\n",
    "myschema = StructType([\n",
    "    StructField(\"UserID\", IntegerType(), True),\n",
    "    StructField(\"Name\", StringType(), True),\n",
    "    StructField(\"Age\", IntegerType(), True),\n",
    "    StructField(\"Friends\", IntegerType(), True),\n",
    "])"
   ]
  },
  {
   "cell_type": "code",
   "execution_count": 52,
   "id": "28ad8d0a-14a5-4f85-9743-23d20d63b331",
   "metadata": {},
   "outputs": [],
   "source": [
    "# Creating DataFrame from a CSV file\n",
    "people = spark.read.format(\"csv\")\\\n",
    "    .schema(myschema)\\\n",
    "    .option(\"header\", True)\\\n",
    "    .load(\"fakefriends.csv\")"
   ]
  },
  {
   "cell_type": "code",
   "execution_count": 53,
   "id": "d241e200-b862-43c2-82db-a994a2a4783e",
   "metadata": {},
   "outputs": [],
   "source": [
    "# Performing transformation\n",
    "output = people.select(people.UserID, people.Name, people.Age, people.Friends)\\\n",
    "    .where(people.Age < 30)\\\n",
    "    .withColumn(\"insert_ts\", func.current_timestamp())\\\n",
    "    .orderBy(people.UserID)"
   ]
  },
  {
   "cell_type": "code",
   "execution_count": 55,
   "id": "a3be648d-22d3-4c3c-90fb-f4a2f599e397",
   "metadata": {},
   "outputs": [
    {
     "name": "stdout",
     "output_type": "stream",
     "text": [
      "+------+-----+---+-------+--------------------+\n",
      "|UserID| Name|Age|Friends|           insert_ts|\n",
      "+------+-----+---+-------+--------------------+\n",
      "|     1| John| 28|    150|2024-07-02 16:13:...|\n",
      "|     2| Jane| 22|    200|2024-07-02 16:13:...|\n",
      "|     4|Alice| 19|    300|2024-07-02 16:13:...|\n",
      "|     5|  Tom| 25|    100|2024-07-02 16:13:...|\n",
      "|     7|James| 27|    180|2024-07-02 16:13:...|\n",
      "|     8|Linda| 24|    220|2024-07-02 16:13:...|\n",
      "|    10|David| 23|    140|2024-07-02 16:13:...|\n",
      "+------+-----+---+-------+--------------------+\n",
      "\n"
     ]
    }
   ],
   "source": [
    "# Display the result\n",
    "output.show()"
   ]
  },
  {
   "cell_type": "code",
   "execution_count": 58,
   "id": "ac13dc64-1990-4468-989b-f07b3d6b86af",
   "metadata": {},
   "outputs": [
    {
     "data": {
      "text/plain": [
       "7"
      ]
     },
     "execution_count": 58,
     "metadata": {},
     "output_type": "execute_result"
    }
   ],
   "source": [
    "output.count()"
   ]
  }
 ],
 "metadata": {
  "kernelspec": {
   "display_name": "Python 3 (ipykernel)",
   "language": "python",
   "name": "python3"
  },
  "language_info": {
   "codemirror_mode": {
    "name": "ipython",
    "version": 3
   },
   "file_extension": ".py",
   "mimetype": "text/x-python",
   "name": "python",
   "nbconvert_exporter": "python",
   "pygments_lexer": "ipython3",
   "version": "3.11.4"
  }
 },
 "nbformat": 4,
 "nbformat_minor": 5
}
